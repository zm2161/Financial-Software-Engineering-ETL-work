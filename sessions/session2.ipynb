{
 "cells": [
  {
   "cell_type": "code",
   "execution_count": 15,
   "metadata": {},
   "outputs": [
    {
     "name": "stdout",
     "output_type": "stream",
     "text": [
      "2 1\n"
     ]
    }
   ],
   "source": [
    "def swap(a,b):\n",
    "    '''\n",
    "    exchange values without creating another variable.\n",
    "    Params\n",
    "    ---\n",
    "    a:int/float\n",
    "    b:int/float\n",
    "\n",
    "    Return\n",
    "    ---\n",
    "    two ints/floats\n",
    "    '''\n",
    "    b,a=a,b\n",
    "    print( a,b)\n",
    "swap(1,2)"
   ]
  },
  {
   "cell_type": "code",
   "execution_count": 2,
   "metadata": {},
   "outputs": [
    {
     "data": {
      "text/plain": [
       "True"
      ]
     },
     "execution_count": 2,
     "metadata": {},
     "output_type": "execute_result"
    }
   ],
   "source": [
    "def palindrome(st):\n",
    "    '''\n",
    "    Given a word string, check if it is a palindrome \n",
    "    '''\n",
    "    return st==st[::-1]\n",
    "palindrome('level')"
   ]
  },
  {
   "cell_type": "code",
   "execution_count": 3,
   "metadata": {},
   "outputs": [
    {
     "name": "stdout",
     "output_type": "stream",
     "text": [
      "1\n",
      "2\n",
      "Fizz\n",
      "4\n",
      "Buzz\n",
      "Fizz\n",
      "7\n",
      "8\n",
      "Fizz\n",
      "Buzz\n",
      "11\n",
      "Fizz\n",
      "13\n",
      "14\n",
      "FizzBuzz\n",
      "16\n",
      "17\n",
      "Fizz\n",
      "19\n",
      "Buzz\n",
      "Fizz\n",
      "22\n",
      "23\n",
      "Fizz\n",
      "Buzz\n",
      "26\n",
      "Fizz\n",
      "28\n",
      "29\n",
      "FizzBuzz\n",
      "31\n",
      "32\n",
      "Fizz\n",
      "34\n",
      "Buzz\n",
      "Fizz\n",
      "37\n",
      "38\n",
      "Fizz\n",
      "Buzz\n",
      "41\n",
      "Fizz\n",
      "43\n",
      "44\n",
      "FizzBuzz\n",
      "46\n",
      "47\n",
      "Fizz\n",
      "49\n",
      "Buzz\n",
      "Fizz\n",
      "52\n",
      "53\n",
      "Fizz\n",
      "Buzz\n",
      "56\n",
      "Fizz\n",
      "58\n",
      "59\n",
      "FizzBuzz\n",
      "61\n",
      "62\n",
      "Fizz\n",
      "64\n",
      "Buzz\n",
      "Fizz\n",
      "67\n",
      "68\n",
      "Fizz\n",
      "Buzz\n",
      "71\n",
      "Fizz\n",
      "73\n",
      "74\n",
      "FizzBuzz\n",
      "76\n",
      "77\n",
      "Fizz\n",
      "79\n",
      "Buzz\n",
      "Fizz\n",
      "82\n",
      "83\n",
      "Fizz\n",
      "Buzz\n",
      "86\n",
      "Fizz\n",
      "88\n",
      "89\n",
      "FizzBuzz\n",
      "91\n",
      "92\n",
      "Fizz\n",
      "94\n",
      "Buzz\n",
      "Fizz\n",
      "97\n",
      "98\n",
      "Fizz\n",
      "Buzz\n"
     ]
    }
   ],
   "source": [
    "def fizzbuzz():\n",
    "    '''\n",
    "    Print integers from 1 to 100 (inclusive), using following rules: \n",
    "for multiples of 3, print “Fizz” (instead of the number); \n",
    "for multiples of 5, print “Buzz” (instead of the number); \n",
    "for multiples of both 3 and 5, print “FizzBuzz” (instead of the number)\n",
    "    '''\n",
    "    for i in range(1,101):\n",
    "        if i % 3 == 0 and i % 5 == 0:print('FizzBuzz')\n",
    "        elif i % 5 == 0:print('Buzz')\n",
    "        elif i % 3 == 0:print('Fizz')\n",
    "        else:print(i)\n"
   ]
  },
  {
   "cell_type": "code",
   "execution_count": 4,
   "metadata": {},
   "outputs": [
    {
     "name": "stdout",
     "output_type": "stream",
     "text": [
      "13\n"
     ]
    }
   ],
   "source": [
    "def is_prime(x):\n",
    "    '''\n",
    "    Given an arbitrary integer x, check if it is a prime\n",
    "    '''\n",
    "    return all(x%i for i in range(2,x))\n",
    "def next_prime(x):\n",
    "    '''\n",
    "    Given an arbitrary integer x, returns the next \n",
    "biggest prime number\n",
    "    '''\n",
    "    return min([a for a in range(x+1,2*x) if is_prime(a)])\n",
    "print(next_prime(12))"
   ]
  },
  {
   "cell_type": "code",
   "execution_count": 17,
   "metadata": {},
   "outputs": [
    {
     "name": "stdout",
     "output_type": "stream",
     "text": [
      "0000\n",
      "0  0\n",
      "0  0\n",
      "0000\n"
     ]
    }
   ],
   "source": [
    "#extra credit\n",
    "def pretty_print(n, char):\n",
    "    '''  \n",
    "    Params\n",
    "    ------\n",
    "    n: int\n",
    "         number of lines \n",
    "    char: str\n",
    "        char\n",
    "    \n",
    "    Return\n",
    "    ------\n",
    "        print the string based on format'''\n",
    "    if not isinstance(n, int):\n",
    "        print('first parameter should be a integer')\n",
    "    if n<0:\n",
    "        print('error in n')\n",
    "    if not isinstance(char, str):\n",
    "        print('second parameter should be a string')\n",
    "    for i in range(n):\n",
    "        str_res=''\n",
    "        char_list=[]\n",
    "        if i == 0 or i ==n-1:\n",
    "            print(char*n)\n",
    "        else:\n",
    "            #add first char\n",
    "            char_list.append(char)\n",
    "            for j in range(n-2):\n",
    "                char_list.append(' ')\n",
    "            char_list.append(char)\n",
    "\n",
    "            print(str_res.join(char_list))\n",
    "pretty_print(4,'0')"
   ]
  },
  {
   "cell_type": "code",
   "execution_count": 14,
   "metadata": {},
   "outputs": [
    {
     "name": "stdout",
     "output_type": "stream",
     "text": [
      "2\n"
     ]
    }
   ],
   "source": [
    "#function that return sum of maximum two elements from array\n",
    "def MaxPairSum(arr):\n",
    "    \n",
    "    n=len(arr)\n",
    "    firMax,secMax=0,0\n",
    "    if (arr[0]>arr[1]):\n",
    "        firMax=arr[0]\n",
    "        secMax=arr[1]\n",
    "    else:\n",
    "        firMax=arr[1]\n",
    "        secMax=arr[0]\n",
    "    for i in range(2,n):\n",
    "        if (arr[i]>firMax):\n",
    "            secMax=firMax\n",
    "            firMax=arr[i]\n",
    "        elif (arr[i]>secMax):\n",
    "            secMax=arr[i]\n",
    "    return firMax+secMax\n",
    "# function that returns the count of numbers that can be added with n to give a square\n",
    "def CountPairsWith(n,squares,nums):\n",
    "    count=0\n",
    "    for i in range(len(squares)):\n",
    "        temp=squares[i]-n\n",
    "        if (temp>n and temp in nums):\n",
    "            count+=1\n",
    "    return count\n",
    "#GetSquares returns a list of all perfect squares upto n\n",
    "def GetSquares(n):\n",
    "    squares=[]\n",
    "    curr=1\n",
    "    i=1\n",
    "    while (curr<=n):\n",
    "        squares.append(curr)\n",
    "        i+=1\n",
    "        curr=int(pow(i,2))\n",
    "    return squares\n",
    "\n",
    "def CountSquare(arr):\n",
    "    n=len(arr)\n",
    "    maxsum=MaxPairSum(arr)\n",
    "    squares=GetSquares(maxsum)\n",
    "    count=0\n",
    "    nums=[]\n",
    "    for i in range(n):\n",
    "        nums.append(arr[i])\n",
    "    for i in range(n):\n",
    "        count+=CountPairsWith(arr[i],squares,nums)\n",
    "    return count\n",
    "\n",
    "arr=[0,2,3,4,6]\n",
    "print(CountSquare(arr))\n",
    "\n",
    "\n",
    "\n",
    "\n"
   ]
  },
  {
   "cell_type": "code",
   "execution_count": null,
   "metadata": {},
   "outputs": [],
   "source": []
  }
 ],
 "metadata": {
  "kernelspec": {
   "display_name": "Python 3.9.7 ('base')",
   "language": "python",
   "name": "python3"
  },
  "language_info": {
   "codemirror_mode": {
    "name": "ipython",
    "version": 3
   },
   "file_extension": ".py",
   "mimetype": "text/x-python",
   "name": "python",
   "nbconvert_exporter": "python",
   "pygments_lexer": "ipython3",
   "version": "3.9.7"
  },
  "orig_nbformat": 4,
  "vscode": {
   "interpreter": {
    "hash": "7ac808c669b5c7485f6b276c7d2c3f4e5979c390c12de2a70529ee930be57d80"
   }
  }
 },
 "nbformat": 4,
 "nbformat_minor": 2
}
